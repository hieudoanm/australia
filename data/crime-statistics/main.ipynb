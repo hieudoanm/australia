{
 "cells": [
  {
   "attachments": {},
   "cell_type": "markdown",
   "metadata": {},
   "source": [
    "# Crime Statistics"
   ]
  },
  {
   "cell_type": "code",
   "execution_count": 13,
   "metadata": {},
   "outputs": [],
   "source": [
    "def add_zero(string):\n",
    "    number = int(string)\n",
    "    if number > 9:\n",
    "        return str(number)\n",
    "    else:\n",
    "        return f\"0{number}\""
   ]
  },
  {
   "attachments": {},
   "cell_type": "markdown",
   "metadata": {},
   "source": [
    "## Get Crime Description"
   ]
  },
  {
   "cell_type": "code",
   "execution_count": 14,
   "metadata": {},
   "outputs": [
    {
     "name": "stdout",
     "output_type": "stream",
     "text": [
      "raw/2010-11.csv\n",
      "raw/2011-12.csv\n",
      "raw/2012-13.csv\n",
      "raw/2013-14.csv\n",
      "raw/2014-15.csv\n",
      "raw/2015-16.csv\n",
      "raw/2016-17.csv\n",
      "raw/2017-18.csv\n",
      "raw/2018-19.csv\n",
      "raw/2019-20.csv\n",
      "raw/2020-21.csv\n",
      "raw/2021-22.csv\n",
      "1121724\n"
     ]
    }
   ],
   "source": [
    "import pandas\n",
    "\n",
    "start_year = 10\n",
    "end_year = 21\n",
    "\n",
    "level_1_description_column = \"Offence Level 1 Description\"\n",
    "level_2_description_column = \"Offence Level 2 Description\"\n",
    "level_3_description_column = \"Offence Level 3 Description\"\n",
    "\n",
    "data = []\n",
    "\n",
    "for year in range(start_year, end_year + 1):\n",
    "    file_name = f\"raw/20{year}-{year + 1}.csv\"\n",
    "    print(file_name)\n",
    "    crimes_by_year_data_frame = pandas.read_csv(file_name)\n",
    "    for columns in crimes_by_year_data_frame.values:\n",
    "        old_date = list(map(add_zero, columns[0].split(\"/\")))\n",
    "        old_date.reverse()\n",
    "        date = \"-\".join(old_date)\n",
    "        suburb = columns[1]\n",
    "        postal_code = columns[2]\n",
    "        description_level_1 = columns[3]\n",
    "        description_level_2 = columns[4]\n",
    "        description_level_3 = columns[5]\n",
    "        count = columns[6]\n",
    "        data.append({\n",
    "          \"date\": date,\n",
    "          \"suburb\":suburb,\n",
    "          \"postal_code\":postal_code,\n",
    "          \"description_level_1\":description_level_1,\n",
    "          \"description_level_2\":description_level_2,\n",
    "          \"description_level_3\":description_level_3,\n",
    "          \"count\": count,\n",
    "        })\n",
    "\n",
    "print(len(data))"
   ]
  },
  {
   "attachments": {},
   "cell_type": "markdown",
   "metadata": {},
   "source": [
    "## Write to File"
   ]
  },
  {
   "cell_type": "code",
   "execution_count": 15,
   "metadata": {},
   "outputs": [],
   "source": [
    "df = pandas.DataFrame.from_dict(data)\n",
    "df.to_csv (r'clean/2010-22.csv', index = False, header=True)"
   ]
  }
 ],
 "metadata": {
  "kernelspec": {
   "display_name": "Python 3",
   "language": "python",
   "name": "python3"
  },
  "language_info": {
   "codemirror_mode": {
    "name": "ipython",
    "version": 3
   },
   "file_extension": ".py",
   "mimetype": "text/x-python",
   "name": "python",
   "nbconvert_exporter": "python",
   "pygments_lexer": "ipython3",
   "version": "3.10.9"
  },
  "orig_nbformat": 4
 },
 "nbformat": 4,
 "nbformat_minor": 2
}
