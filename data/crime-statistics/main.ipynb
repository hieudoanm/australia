{
 "cells": [
  {
   "attachments": {},
   "cell_type": "markdown",
   "metadata": {},
   "source": [
    "# Crime Statistics\n",
    "\n",
    "## Get Crime Description"
   ]
  },
  {
   "cell_type": "code",
   "execution_count": 1,
   "metadata": {},
   "outputs": [],
   "source": [
    "import pandas\n",
    "\n",
    "start_year = 10\n",
    "end_year = 21\n",
    "\n",
    "level_1_description_column = \"Offence Level 1 Description\"\n",
    "level_1_description = []\n",
    "level_2_description_column = \"Offence Level 2 Description\"\n",
    "level_2_description = []\n",
    "level_3_description_column = \"Offence Level 3 Description\"\n",
    "level_3_description = []\n",
    "\n",
    "years = []\n",
    "data_frames = {}\n",
    "\n",
    "for year in range(start_year, end_year + 1):\n",
    "    year = f\"20{year}-{year + 1}.csv\"\n",
    "    years.append(year)\n",
    "    crimes_by_year_data_frame = pandas.read_csv(year)\n",
    "    data_frames[year] = crimes_by_year_data_frame\n",
    "    level_1_description_list_by_year = crimes_by_year_data_frame[level_1_description_column].values.tolist()\n",
    "    level_1_description.extend(level_1_description_list_by_year)\n",
    "    level_2_description_list_by_year = crimes_by_year_data_frame[level_2_description_column].values.tolist()\n",
    "    level_2_description.extend(level_2_description_list_by_year)\n",
    "    level_3_description_list_by_year = crimes_by_year_data_frame[level_3_description_column].values.tolist()\n",
    "    level_3_description.extend(level_3_description_list_by_year)\n",
    "\n",
    "level_1_description = list(set(level_1_description))\n",
    "level_2_description = list(set(level_2_description))\n",
    "level_3_description = list(set(level_3_description))"
   ]
  },
  {
   "attachments": {},
   "cell_type": "markdown",
   "metadata": {},
   "source": [
    "## Process Count"
   ]
  },
  {
   "cell_type": "code",
   "execution_count": 2,
   "metadata": {},
   "outputs": [],
   "source": [
    "count = {}\n",
    "\n",
    "for description in level_3_description:\n",
    "  if description in count:\n",
    "    count[description] += 0\n",
    "  else:\n",
    "    count[description] = 0"
   ]
  }
 ],
 "metadata": {
  "kernelspec": {
   "display_name": "Python 3",
   "language": "python",
   "name": "python3"
  },
  "language_info": {
   "codemirror_mode": {
    "name": "ipython",
    "version": 3
   },
   "file_extension": ".py",
   "mimetype": "text/x-python",
   "name": "python",
   "nbconvert_exporter": "python",
   "pygments_lexer": "ipython3",
   "version": "3.10.9"
  },
  "orig_nbformat": 4
 },
 "nbformat": 4,
 "nbformat_minor": 2
}
